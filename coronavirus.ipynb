{
  "nbformat": 4,
  "nbformat_minor": 0,
  "metadata": {
    "colab": {
      "name": "coronavirus.ipynb",
      "provenance": [],
      "collapsed_sections": [],
      "authorship_tag": "ABX9TyPMBgZbh8XrUlrdOBEozNYf",
      "include_colab_link": true
    },
    "kernelspec": {
      "name": "python3",
      "display_name": "Python 3"
    }
  },
  "cells": [
    {
      "cell_type": "markdown",
      "metadata": {
        "id": "view-in-github",
        "colab_type": "text"
      },
      "source": [
        "<a href=\"https://colab.research.google.com/github/karnali/covid_19_colab/blob/master/coronavirus.ipynb\" target=\"_parent\"><img src=\"https://colab.research.google.com/assets/colab-badge.svg\" alt=\"Open In Colab\"/></a>"
      ]
    },
    {
      "cell_type": "code",
      "metadata": {
        "id": "MMyDjMwNa8E9",
        "colab_type": "code",
        "colab": {}
      },
      "source": [
        "import pandas as pd\n",
        "import matplotlib.pyplot as plt\n",
        "import seaborn as sns"
      ],
      "execution_count": 0,
      "outputs": []
    },
    {
      "cell_type": "code",
      "metadata": {
        "id": "5MC2X5W_a_bh",
        "colab_type": "code",
        "colab": {}
      },
      "source": [
        "# Reading the dataset https://github.com/CSSEGISandData/2019-nCoV\n",
        "df = pd.read_csv('https://raw.githubusercontent.com/CSSEGISandData/COVID-19/master/csse_covid_19_data/csse_covid_19_daily_reports/03-04-2020.csv')\n"
      ],
      "execution_count": 0,
      "outputs": []
    },
    {
      "cell_type": "code",
      "metadata": {
        "id": "iSnlEPkwE9mX",
        "colab_type": "code",
        "outputId": "79344748-6a07-4b50-f026-b3bf6ed0cbd2",
        "colab": {
          "base_uri": "https://localhost:8080/",
          "height": 238
        }
      },
      "source": [
        "# Let's look at the various columns\n",
        "df.info()"
      ],
      "execution_count": 3,
      "outputs": [
        {
          "output_type": "stream",
          "text": [
            "<class 'pandas.core.frame.DataFrame'>\n",
            "RangeIndex: 160 entries, 0 to 159\n",
            "Data columns (total 8 columns):\n",
            "Province/State    82 non-null object\n",
            "Country/Region    160 non-null object\n",
            "Last Update       160 non-null object\n",
            "Confirmed         160 non-null int64\n",
            "Deaths            160 non-null int64\n",
            "Recovered         160 non-null int64\n",
            "Latitude          160 non-null float64\n",
            "Longitude         160 non-null float64\n",
            "dtypes: float64(2), int64(3), object(3)\n",
            "memory usage: 10.1+ KB\n"
          ],
          "name": "stdout"
        }
      ]
    },
    {
      "cell_type": "code",
      "metadata": {
        "id": "kj4Vb2VTviYE",
        "colab_type": "code",
        "outputId": "00751e98-8ed0-434f-ff97-aab22ddcedf2",
        "colab": {
          "base_uri": "https://localhost:8080/",
          "height": 297
        }
      },
      "source": [
        "df.describe()"
      ],
      "execution_count": 4,
      "outputs": [
        {
          "output_type": "execute_result",
          "data": {
            "text/html": [
              "<div>\n",
              "<style scoped>\n",
              "    .dataframe tbody tr th:only-of-type {\n",
              "        vertical-align: middle;\n",
              "    }\n",
              "\n",
              "    .dataframe tbody tr th {\n",
              "        vertical-align: top;\n",
              "    }\n",
              "\n",
              "    .dataframe thead th {\n",
              "        text-align: right;\n",
              "    }\n",
              "</style>\n",
              "<table border=\"1\" class=\"dataframe\">\n",
              "  <thead>\n",
              "    <tr style=\"text-align: right;\">\n",
              "      <th></th>\n",
              "      <th>Confirmed</th>\n",
              "      <th>Deaths</th>\n",
              "      <th>Recovered</th>\n",
              "      <th>Latitude</th>\n",
              "      <th>Longitude</th>\n",
              "    </tr>\n",
              "  </thead>\n",
              "  <tbody>\n",
              "    <tr>\n",
              "      <th>count</th>\n",
              "      <td>160.000000</td>\n",
              "      <td>160.000000</td>\n",
              "      <td>160.00000</td>\n",
              "      <td>160.000000</td>\n",
              "      <td>160.000000</td>\n",
              "    </tr>\n",
              "    <tr>\n",
              "      <th>mean</th>\n",
              "      <td>594.525000</td>\n",
              "      <td>20.337500</td>\n",
              "      <td>319.81875</td>\n",
              "      <td>31.489201</td>\n",
              "      <td>22.192458</td>\n",
              "    </tr>\n",
              "    <tr>\n",
              "      <th>std</th>\n",
              "      <td>5342.360241</td>\n",
              "      <td>227.078794</td>\n",
              "      <td>3049.87881</td>\n",
              "      <td>21.385386</td>\n",
              "      <td>87.700619</td>\n",
              "    </tr>\n",
              "    <tr>\n",
              "      <th>min</th>\n",
              "      <td>0.000000</td>\n",
              "      <td>0.000000</td>\n",
              "      <td>0.00000</td>\n",
              "      <td>-41.454500</td>\n",
              "      <td>-123.869500</td>\n",
              "    </tr>\n",
              "    <tr>\n",
              "      <th>25%</th>\n",
              "      <td>1.000000</td>\n",
              "      <td>0.000000</td>\n",
              "      <td>0.00000</td>\n",
              "      <td>26.631275</td>\n",
              "      <td>-71.080400</td>\n",
              "    </tr>\n",
              "    <tr>\n",
              "      <th>50%</th>\n",
              "      <td>6.500000</td>\n",
              "      <td>0.000000</td>\n",
              "      <td>0.00000</td>\n",
              "      <td>35.901600</td>\n",
              "      <td>24.801600</td>\n",
              "    </tr>\n",
              "    <tr>\n",
              "      <th>75%</th>\n",
              "      <td>75.000000</td>\n",
              "      <td>1.000000</td>\n",
              "      <td>13.00000</td>\n",
              "      <td>43.218125</td>\n",
              "      <td>108.808600</td>\n",
              "    </tr>\n",
              "    <tr>\n",
              "      <th>max</th>\n",
              "      <td>67332.000000</td>\n",
              "      <td>2871.000000</td>\n",
              "      <td>38557.00000</td>\n",
              "      <td>64.963100</td>\n",
              "      <td>174.886000</td>\n",
              "    </tr>\n",
              "  </tbody>\n",
              "</table>\n",
              "</div>"
            ],
            "text/plain": [
              "          Confirmed       Deaths    Recovered    Latitude   Longitude\n",
              "count    160.000000   160.000000    160.00000  160.000000  160.000000\n",
              "mean     594.525000    20.337500    319.81875   31.489201   22.192458\n",
              "std     5342.360241   227.078794   3049.87881   21.385386   87.700619\n",
              "min        0.000000     0.000000      0.00000  -41.454500 -123.869500\n",
              "25%        1.000000     0.000000      0.00000   26.631275  -71.080400\n",
              "50%        6.500000     0.000000      0.00000   35.901600   24.801600\n",
              "75%       75.000000     1.000000     13.00000   43.218125  108.808600\n",
              "max    67332.000000  2871.000000  38557.00000   64.963100  174.886000"
            ]
          },
          "metadata": {
            "tags": []
          },
          "execution_count": 4
        }
      ]
    },
    {
      "cell_type": "code",
      "metadata": {
        "id": "VPOuBDx1GIzj",
        "colab_type": "code",
        "outputId": "20c4e824-ce57-4cb6-dd43-516508e28e7a",
        "colab": {
          "base_uri": "https://localhost:8080/",
          "height": 88
        }
      },
      "source": [
        "# Countries affected\n",
        "countries = df['Country/Region'].unique().tolist()\n",
        "print(countries)\n",
        "\n",
        "print(\"\\nTotal countries affected by virus: \",len(countries))"
      ],
      "execution_count": 5,
      "outputs": [
        {
          "output_type": "stream",
          "text": [
            "['Mainland China', 'South Korea', 'Italy', 'Iran', 'Others', 'Japan', 'France', 'Germany', 'Spain', 'Singapore', 'Hong Kong', 'Switzerland', 'UK', 'Kuwait', 'Norway', 'Bahrain', 'Malaysia', 'US', 'Thailand', 'Taiwan', 'Netherlands', 'Iraq', 'Sweden', 'Austria', 'India', 'United Arab Emirates', 'Iceland', 'Belgium', 'Australia', 'Canada', 'San Marino', 'Vietnam', 'Israel', 'Oman', 'Lebanon', 'Algeria', 'Croatia', 'Denmark', 'Ecuador', 'Macau', 'Greece', 'Czech Republic', 'Qatar', 'Belarus', 'Finland', 'Ireland', 'Mexico', 'Pakistan', 'Portugal', 'Brazil', 'Romania', 'Senegal', 'Azerbaijan', 'Georgia', 'New Zealand', 'Philippines', 'Russia', 'Saint Barthelemy', 'Egypt', 'Estonia', 'Hungary', 'Indonesia', 'Afghanistan', 'Andorra', 'Argentina', 'Armenia', 'Cambodia', 'Chile', 'Dominican Republic', 'Faroe Islands', 'Gibraltar', 'Jordan', 'Latvia', 'Liechtenstein', 'Lithuania', 'Luxembourg', 'Monaco', 'Morocco', 'Nepal', 'Nigeria', 'North Macedonia', 'Poland', 'Saudi Arabia', 'Sri Lanka', 'Tunisia', 'Ukraine']\n",
            "\n",
            "Total countries affected by virus:  86\n"
          ],
          "name": "stdout"
        }
      ]
    },
    {
      "cell_type": "code",
      "metadata": {
        "id": "nbff57P-GcS_",
        "colab_type": "code",
        "outputId": "3094dea3-428a-42cd-fa79-3644988ecafe",
        "colab": {
          "base_uri": "https://localhost:8080/",
          "height": 88
        }
      },
      "source": [
        "#Combining China and Mainland China cases\n",
        "df['Country/Region'].replace({'Mainland China':'China'},inplace=True)\n",
        "countries = df['Country/Region'].unique().tolist()\n",
        "print(countries)\n",
        "print(\"\\nTotal countries affected by virus: \",len(countries))\n",
        "\n"
      ],
      "execution_count": 6,
      "outputs": [
        {
          "output_type": "stream",
          "text": [
            "['China', 'South Korea', 'Italy', 'Iran', 'Others', 'Japan', 'France', 'Germany', 'Spain', 'Singapore', 'Hong Kong', 'Switzerland', 'UK', 'Kuwait', 'Norway', 'Bahrain', 'Malaysia', 'US', 'Thailand', 'Taiwan', 'Netherlands', 'Iraq', 'Sweden', 'Austria', 'India', 'United Arab Emirates', 'Iceland', 'Belgium', 'Australia', 'Canada', 'San Marino', 'Vietnam', 'Israel', 'Oman', 'Lebanon', 'Algeria', 'Croatia', 'Denmark', 'Ecuador', 'Macau', 'Greece', 'Czech Republic', 'Qatar', 'Belarus', 'Finland', 'Ireland', 'Mexico', 'Pakistan', 'Portugal', 'Brazil', 'Romania', 'Senegal', 'Azerbaijan', 'Georgia', 'New Zealand', 'Philippines', 'Russia', 'Saint Barthelemy', 'Egypt', 'Estonia', 'Hungary', 'Indonesia', 'Afghanistan', 'Andorra', 'Argentina', 'Armenia', 'Cambodia', 'Chile', 'Dominican Republic', 'Faroe Islands', 'Gibraltar', 'Jordan', 'Latvia', 'Liechtenstein', 'Lithuania', 'Luxembourg', 'Monaco', 'Morocco', 'Nepal', 'Nigeria', 'North Macedonia', 'Poland', 'Saudi Arabia', 'Sri Lanka', 'Tunisia', 'Ukraine']\n",
            "\n",
            "Total countries affected by virus:  86\n"
          ],
          "name": "stdout"
        }
      ]
    },
    {
      "cell_type": "code",
      "metadata": {
        "colab_type": "code",
        "id": "dx2FOpmdIrxu",
        "colab": {}
      },
      "source": [
        "# Set it None to display all rows in the dataframe\n",
        "pd.set_option('display.max_rows', None)\n",
        "\n",
        "# Creating a dataframe with total no of confirmed cases for every Country/Region\n",
        "Number_of_countries = len(df['Country/Region'].value_counts())\n",
        "cases = pd.DataFrame(df.groupby('Country/Region')['Confirmed','Deaths'].sum())\n",
        "cases['Country/Region'] = cases.index\n",
        "global_cases = cases[['Confirmed','Deaths']]\n",
        "\n",
        "dfsort = global_cases.sort_values(by = ['Deaths'], ascending = False)\n",
        "dfsort.to_csv('today.csv',index=True)\n"
      ],
      "execution_count": 0,
      "outputs": []
    },
    {
      "cell_type": "code",
      "metadata": {
        "id": "SVjLR4oEi2Pz",
        "colab_type": "code",
        "colab": {
          "base_uri": "https://localhost:8080/",
          "height": 410
        },
        "outputId": "ecee1d50-d05d-49d7-ea2d-3666609da2f2"
      },
      "source": [
        "sns.set_style(\"darkgrid\")\n",
        "dfchina = pd.read_csv('today.csv', skiprows = range(2,200))\n",
        "ax = sns.relplot(x=\"Country/Region\", y=\"Deaths\", aspect = 3, color=\"r\", data=dfchina)\n",
        "ax.set(ylim=(0, 4000))\n",
        "ax.set(xlim=(0, 2))\n",
        "plt.title('Deaths By Corona Virus in China')\n",
        "ax.set_xticklabels(rotation=90)\n"
      ],
      "execution_count": 8,
      "outputs": [
        {
          "output_type": "execute_result",
          "data": {
            "text/plain": [
              "<seaborn.axisgrid.FacetGrid at 0x7f7edc167f98>"
            ]
          },
          "metadata": {
            "tags": []
          },
          "execution_count": 8
        },
        {
          "output_type": "display_data",
          "data": {
            "image/png": "[encoded data removed]",
            "text/plain": [
              "<Figure size 1080x360 with 1 Axes>"
            ]
          },
          "metadata": {
            "tags": []
          }
        }
      ]
    },
    {
      "cell_type": "code",
      "metadata": {
        "id": "gzCJFWuqVWtT",
        "colab_type": "code",
        "colab": {
          "base_uri": "https://localhost:8080/",
          "height": 453
        },
        "outputId": "330d0428-ec85-49c0-abbc-baf86c373593"
      },
      "source": [
        "sns.set_style(\"darkgrid\")\n",
        "dfglobal = pd.read_csv('today.csv', skiprows=[1])\n",
        "ax = sns.relplot(x=\"Country/Region\", y=\"Deaths\", aspect = 3, color=\"r\", data=dfglobal)\n",
        "ax.set(ylim=(0, 200))\n",
        "ax.set(xlim=(0, 15))\n",
        "plt.title('Deaths By Corona Virus outside of China')\n",
        "ax.set_xticklabels(rotation=90)\n"
      ],
      "execution_count": 9,
      "outputs": [
        {
          "output_type": "execute_result",
          "data": {
            "text/plain": [
              "<seaborn.axisgrid.FacetGrid at 0x7f7ed93940f0>"
            ]
          },
          "metadata": {
            "tags": []
          },
          "execution_count": 9
        },
        {
          "output_type": "display_data",
          "data": {
            "image/png": "[encoded data removed]",
            "text/plain": [
              "<Figure size 1080x360 with 1 Axes>"
            ]
          },
          "metadata": {
            "tags": []
          }
        }
      ]
    }
  ]
}