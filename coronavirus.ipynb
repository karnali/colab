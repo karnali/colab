{
  "nbformat": 4,
  "nbformat_minor": 0,
  "metadata": {
    "colab": {
      "name": "coronavirus.ipynb",
      "provenance": [],
      "collapsed_sections": [],
      "toc_visible": true,
      "authorship_tag": "ABX9TyMczHmhmmtF52NkGV3sK6cG",
      "include_colab_link": true
    },
    "kernelspec": {
      "name": "python3",
      "display_name": "Python 3"
    }
  },
  "cells": [
    {
      "cell_type": "markdown",
      "metadata": {
        "id": "view-in-github",
        "colab_type": "text"
      },
      "source": [
        "<a href=\"https://colab.research.google.com/github/karnali/colab/blob/master/coronavirus.ipynb\" target=\"_parent\"><img src=\"https://colab.research.google.com/assets/colab-badge.svg\" alt=\"Open In Colab\"/></a>"
      ]
    },
    {
      "cell_type": "code",
      "metadata": {
        "id": "MMyDjMwNa8E9",
        "colab_type": "code",
        "colab": {}
      },
      "source": [
        "import plotly.offline as go_offline\n",
        "import plotly.graph_objects as go\n",
        "import pandas as pd"
      ],
      "execution_count": 0,
      "outputs": []
    },
    {
      "cell_type": "code",
      "metadata": {
        "colab_type": "code",
        "id": "NEH4g3Is7nc1",
        "colab": {
          "base_uri": "https://localhost:8080/",
          "height": 294
        },
        "outputId": "baa7108c-cd7f-4853-b9b0-675a8cb2d2e9"
      },
      "source": [
        "!wget -c 'https://docs.google.com/spreadsheets/d/1wQVypefm946ch4XDp37uZ-wartW4V7ILdg-qYiDXUHM/export?format=csv&gid?usp=sharing' -O 2019_nCoV_data.csv\n",
        "!mv 2019_nCoV_data.csv //content/2019_nCoV_data\n",
        "!pwd\n",
        "!ls -l\n"
      ],
      "execution_count": 2,
      "outputs": [
        {
          "output_type": "stream",
          "text": [
            "--2020-02-07 21:23:27--  https://docs.google.com/spreadsheets/d/1wQVypefm946ch4XDp37uZ-wartW4V7ILdg-qYiDXUHM/export?format=csv&gid?usp=sharing\n",
            "Resolving docs.google.com (docs.google.com)... 74.125.23.100, 74.125.23.139, 74.125.23.138, ...\n",
            "Connecting to docs.google.com (docs.google.com)|74.125.23.100|:443... connected.\n",
            "HTTP request sent, awaiting response... 200 OK\n",
            "Length: unspecified [text/csv]\n",
            "Saving to: ‘2019_nCoV_data.csv’\n",
            "\n",
            "2019_nCoV_data.csv      [ <=>                ]   2.75K  --.-KB/s    in 0s      \n",
            "\n",
            "2020-02-07 21:23:28 (46.2 MB/s) - ‘2019_nCoV_data.csv’ saved [2815]\n",
            "\n",
            "/content\n",
            "total 12\n",
            "drwxr-xr-x 3 root root 4096 Feb  7 21:23 2019_nCoV_data\n",
            "-rw-r--r-- 1 root root   64 Feb  7 14:03 kaggle.json\n",
            "drwxr-xr-x 1 root root 4096 Feb  5 18:37 sample_data\n"
          ],
          "name": "stdout"
        }
      ]
    },
    {
      "cell_type": "code",
      "metadata": {
        "id": "5MC2X5W_a_bh",
        "colab_type": "code",
        "colab": {
          "base_uri": "https://localhost:8080/",
          "height": 416
        },
        "outputId": "7deea1b2-87ca-4c22-b7a1-105657be05bf"
      },
      "source": [
        "# Reading the dataset\n",
        "df = pd.read_csv(\"../content/2019_nCoV_data/2019_nCoV_data.csv\")\n",
        "df.head(80)\n"
      ],
      "execution_count": 3,
      "outputs": [
        {
          "output_type": "execute_result",
          "data": {
            "text/html": [
              "<div>\n",
              "<style scoped>\n",
              "    .dataframe tbody tr th:only-of-type {\n",
              "        vertical-align: middle;\n",
              "    }\n",
              "\n",
              "    .dataframe tbody tr th {\n",
              "        vertical-align: top;\n",
              "    }\n",
              "\n",
              "    .dataframe thead th {\n",
              "        text-align: right;\n",
              "    }\n",
              "</style>\n",
              "<table border=\"1\" class=\"dataframe\">\n",
              "  <thead>\n",
              "    <tr style=\"text-align: right;\">\n",
              "      <th></th>\n",
              "      <th>Province/State</th>\n",
              "      <th>Country/Region</th>\n",
              "      <th>Last Update</th>\n",
              "      <th>Confirmed</th>\n",
              "      <th>Deaths</th>\n",
              "      <th>Recovered</th>\n",
              "    </tr>\n",
              "  </thead>\n",
              "  <tbody>\n",
              "    <tr>\n",
              "      <th>0</th>\n",
              "      <td>Hubei</td>\n",
              "      <td>Mainland China</td>\n",
              "      <td>2/6/20 23:23</td>\n",
              "      <td>22112</td>\n",
              "      <td>618</td>\n",
              "      <td>817</td>\n",
              "    </tr>\n",
              "    <tr>\n",
              "      <th>1</th>\n",
              "      <td>Guangdong</td>\n",
              "      <td>Mainland China</td>\n",
              "      <td>2/6/20 12:43</td>\n",
              "      <td>970</td>\n",
              "      <td>0</td>\n",
              "      <td>69</td>\n",
              "    </tr>\n",
              "    <tr>\n",
              "      <th>2</th>\n",
              "      <td>Zhejiang</td>\n",
              "      <td>Mainland China</td>\n",
              "      <td>2/6/20 10:53</td>\n",
              "      <td>954</td>\n",
              "      <td>0</td>\n",
              "      <td>94</td>\n",
              "    </tr>\n",
              "    <tr>\n",
              "      <th>3</th>\n",
              "      <td>Henan</td>\n",
              "      <td>Mainland China</td>\n",
              "      <td>2/6/20 11:23</td>\n",
              "      <td>851</td>\n",
              "      <td>2</td>\n",
              "      <td>56</td>\n",
              "    </tr>\n",
              "    <tr>\n",
              "      <th>4</th>\n",
              "      <td>Hunan</td>\n",
              "      <td>Mainland China</td>\n",
              "      <td>2/6/20 13:13</td>\n",
              "      <td>711</td>\n",
              "      <td>0</td>\n",
              "      <td>81</td>\n",
              "    </tr>\n",
              "    <tr>\n",
              "      <th>...</th>\n",
              "      <td>...</td>\n",
              "      <td>...</td>\n",
              "      <td>...</td>\n",
              "      <td>...</td>\n",
              "      <td>...</td>\n",
              "      <td>...</td>\n",
              "    </tr>\n",
              "    <tr>\n",
              "      <th>66</th>\n",
              "      <td>Los Angeles, CA</td>\n",
              "      <td>US</td>\n",
              "      <td>2/1/20 19:53</td>\n",
              "      <td>1</td>\n",
              "      <td>0</td>\n",
              "      <td>0</td>\n",
              "    </tr>\n",
              "    <tr>\n",
              "      <th>67</th>\n",
              "      <td>Madison, WI</td>\n",
              "      <td>US</td>\n",
              "      <td>2/5/20 21:53</td>\n",
              "      <td>1</td>\n",
              "      <td>0</td>\n",
              "      <td>0</td>\n",
              "    </tr>\n",
              "    <tr>\n",
              "      <th>68</th>\n",
              "      <td>Orange, CA</td>\n",
              "      <td>US</td>\n",
              "      <td>2/1/20 19:53</td>\n",
              "      <td>1</td>\n",
              "      <td>0</td>\n",
              "      <td>0</td>\n",
              "    </tr>\n",
              "    <tr>\n",
              "      <th>69</th>\n",
              "      <td>Seattle, WA</td>\n",
              "      <td>US</td>\n",
              "      <td>2/1/20 19:43</td>\n",
              "      <td>1</td>\n",
              "      <td>0</td>\n",
              "      <td>0</td>\n",
              "    </tr>\n",
              "    <tr>\n",
              "      <th>70</th>\n",
              "      <td>Tempe, AZ</td>\n",
              "      <td>US</td>\n",
              "      <td>2/1/20 19:43</td>\n",
              "      <td>1</td>\n",
              "      <td>0</td>\n",
              "      <td>0</td>\n",
              "    </tr>\n",
              "  </tbody>\n",
              "</table>\n",
              "<p>71 rows × 6 columns</p>\n",
              "</div>"
            ],
            "text/plain": [
              "     Province/State  Country/Region   Last Update  Confirmed  Deaths  Recovered\n",
              "0             Hubei  Mainland China  2/6/20 23:23      22112     618        817\n",
              "1         Guangdong  Mainland China  2/6/20 12:43        970       0         69\n",
              "2          Zhejiang  Mainland China  2/6/20 10:53        954       0         94\n",
              "3             Henan  Mainland China  2/6/20 11:23        851       2         56\n",
              "4             Hunan  Mainland China  2/6/20 13:13        711       0         81\n",
              "..              ...             ...           ...        ...     ...        ...\n",
              "66  Los Angeles, CA              US  2/1/20 19:53          1       0          0\n",
              "67      Madison, WI              US  2/5/20 21:53          1       0          0\n",
              "68       Orange, CA              US  2/1/20 19:53          1       0          0\n",
              "69      Seattle, WA              US  2/1/20 19:43          1       0          0\n",
              "70        Tempe, AZ              US  2/1/20 19:43          1       0          0\n",
              "\n",
              "[71 rows x 6 columns]"
            ]
          },
          "metadata": {
            "tags": []
          },
          "execution_count": 3
        }
      ]
    },
    {
      "cell_type": "code",
      "metadata": {
        "id": "iSnlEPkwE9mX",
        "colab_type": "code",
        "colab": {
          "base_uri": "https://localhost:8080/",
          "height": 208
        },
        "outputId": "82f5758b-46e9-400d-ca56-4a97fe4c2dcc"
      },
      "source": [
        "# Let's look at the various columns\n",
        "df.info()"
      ],
      "execution_count": 4,
      "outputs": [
        {
          "output_type": "stream",
          "text": [
            "<class 'pandas.core.frame.DataFrame'>\n",
            "RangeIndex: 71 entries, 0 to 70\n",
            "Data columns (total 6 columns):\n",
            "Province/State    50 non-null object\n",
            "Country/Region    71 non-null object\n",
            "Last Update       71 non-null object\n",
            "Confirmed         71 non-null int64\n",
            "Deaths            71 non-null int64\n",
            "Recovered         71 non-null int64\n",
            "dtypes: int64(3), object(3)\n",
            "memory usage: 3.5+ KB\n"
          ],
          "name": "stdout"
        }
      ]
    },
    {
      "cell_type": "code",
      "metadata": {
        "id": "kj4Vb2VTviYE",
        "colab_type": "code",
        "colab": {
          "base_uri": "https://localhost:8080/",
          "height": 294
        },
        "outputId": "1cc47e4d-677f-47f0-f9a6-52448031886e"
      },
      "source": [
        "df.describe()"
      ],
      "execution_count": 5,
      "outputs": [
        {
          "output_type": "execute_result",
          "data": {
            "text/html": [
              "<div>\n",
              "<style scoped>\n",
              "    .dataframe tbody tr th:only-of-type {\n",
              "        vertical-align: middle;\n",
              "    }\n",
              "\n",
              "    .dataframe tbody tr th {\n",
              "        vertical-align: top;\n",
              "    }\n",
              "\n",
              "    .dataframe thead th {\n",
              "        text-align: right;\n",
              "    }\n",
              "</style>\n",
              "<table border=\"1\" class=\"dataframe\">\n",
              "  <thead>\n",
              "    <tr style=\"text-align: right;\">\n",
              "      <th></th>\n",
              "      <th>Confirmed</th>\n",
              "      <th>Deaths</th>\n",
              "      <th>Recovered</th>\n",
              "    </tr>\n",
              "  </thead>\n",
              "  <tbody>\n",
              "    <tr>\n",
              "      <th>count</th>\n",
              "      <td>71.000000</td>\n",
              "      <td>71.000000</td>\n",
              "      <td>71.000000</td>\n",
              "    </tr>\n",
              "    <tr>\n",
              "      <th>mean</th>\n",
              "      <td>434.887324</td>\n",
              "      <td>8.957746</td>\n",
              "      <td>21.112676</td>\n",
              "    </tr>\n",
              "    <tr>\n",
              "      <th>std</th>\n",
              "      <td>2619.324905</td>\n",
              "      <td>73.315061</td>\n",
              "      <td>97.716434</td>\n",
              "    </tr>\n",
              "    <tr>\n",
              "      <th>min</th>\n",
              "      <td>1.000000</td>\n",
              "      <td>0.000000</td>\n",
              "      <td>0.000000</td>\n",
              "    </tr>\n",
              "    <tr>\n",
              "      <th>25%</th>\n",
              "      <td>2.000000</td>\n",
              "      <td>0.000000</td>\n",
              "      <td>0.000000</td>\n",
              "    </tr>\n",
              "    <tr>\n",
              "      <th>50%</th>\n",
              "      <td>16.000000</td>\n",
              "      <td>0.000000</td>\n",
              "      <td>0.000000</td>\n",
              "    </tr>\n",
              "    <tr>\n",
              "      <th>75%</th>\n",
              "      <td>152.000000</td>\n",
              "      <td>0.000000</td>\n",
              "      <td>8.500000</td>\n",
              "    </tr>\n",
              "    <tr>\n",
              "      <th>max</th>\n",
              "      <td>22112.000000</td>\n",
              "      <td>618.000000</td>\n",
              "      <td>817.000000</td>\n",
              "    </tr>\n",
              "  </tbody>\n",
              "</table>\n",
              "</div>"
            ],
            "text/plain": [
              "          Confirmed      Deaths   Recovered\n",
              "count     71.000000   71.000000   71.000000\n",
              "mean     434.887324    8.957746   21.112676\n",
              "std     2619.324905   73.315061   97.716434\n",
              "min        1.000000    0.000000    0.000000\n",
              "25%        2.000000    0.000000    0.000000\n",
              "50%       16.000000    0.000000    0.000000\n",
              "75%      152.000000    0.000000    8.500000\n",
              "max    22112.000000  618.000000  817.000000"
            ]
          },
          "metadata": {
            "tags": []
          },
          "execution_count": 5
        }
      ]
    },
    {
      "cell_type": "code",
      "metadata": {
        "id": "VPOuBDx1GIzj",
        "colab_type": "code",
        "colab": {
          "base_uri": "https://localhost:8080/",
          "height": 89
        },
        "outputId": "33e427f4-cbea-4ee4-c39b-dc32bd424fc2"
      },
      "source": [
        "# Countries affected\n",
        "countries = df['Country/Region'].unique().tolist()\n",
        "print(countries)\n",
        "\n",
        "print(\"\\nTotal countries affected by virus: \",len(countries))"
      ],
      "execution_count": 6,
      "outputs": [
        {
          "output_type": "stream",
          "text": [
            "['Mainland China', 'Japan', 'Singapore', 'Thailand', 'Hong Kong', 'South Korea', 'Taiwan', 'Germany', 'Malaysia', 'Macau', 'Vietnam', 'France', 'United Arab Emirates', 'Australia', 'India', 'Canada', 'Italy', 'Philippines', 'Russia', 'UK', 'US', 'Belgium', 'Cambodia', 'Finland', 'Nepal', 'Spain', 'Sri Lanka', 'Sweden']\n",
            "\n",
            "Total countries affected by virus:  28\n"
          ],
          "name": "stdout"
        }
      ]
    },
    {
      "cell_type": "code",
      "metadata": {
        "id": "nbff57P-GcS_",
        "colab_type": "code",
        "colab": {
          "base_uri": "https://localhost:8080/",
          "height": 89
        },
        "outputId": "e961b907-acdb-41b2-8b2e-192b0c92ba61"
      },
      "source": [
        "#Combining China and Mainland China cases\n",
        "df['Country/Region'].replace({'Mainland China':'China'},inplace=True)\n",
        "countries = df['Country/Region'].unique().tolist()\n",
        "print(countries)\n",
        "print(\"\\nTotal countries affected by virus: \",len(countries))\n",
        "\n"
      ],
      "execution_count": 7,
      "outputs": [
        {
          "output_type": "stream",
          "text": [
            "['China', 'Japan', 'Singapore', 'Thailand', 'Hong Kong', 'South Korea', 'Taiwan', 'Germany', 'Malaysia', 'Macau', 'Vietnam', 'France', 'United Arab Emirates', 'Australia', 'India', 'Canada', 'Italy', 'Philippines', 'Russia', 'UK', 'US', 'Belgium', 'Cambodia', 'Finland', 'Nepal', 'Spain', 'Sri Lanka', 'Sweden']\n",
            "\n",
            "Total countries affected by virus:  28\n"
          ],
          "name": "stdout"
        }
      ]
    },
    {
      "cell_type": "code",
      "metadata": {
        "colab_type": "code",
        "outputId": "0d407fd9-a7fd-4b59-b74b-2dada126a0d9",
        "id": "dx2FOpmdIrxu",
        "colab": {
          "base_uri": "https://localhost:8080/",
          "height": 938
        }
      },
      "source": [
        "# Creating a dataframe with total no of confirmed cases for every Country/Region\n",
        "Number_of_countries = len(df['Country/Region'].value_counts())\n",
        "\n",
        "cases = pd.DataFrame(df.groupby('Country/Region')['Confirmed','Deaths'].sum())\n",
        "cases['Country/Region'] = cases.index\n",
        "\n",
        "global_cases = cases[['Confirmed','Deaths']]\n",
        "global_cases.sort_values(['Confirmed'], ascending=False)\n"
      ],
      "execution_count": 8,
      "outputs": [
        {
          "output_type": "execute_result",
          "data": {
            "text/html": [
              "<div>\n",
              "<style scoped>\n",
              "    .dataframe tbody tr th:only-of-type {\n",
              "        vertical-align: middle;\n",
              "    }\n",
              "\n",
              "    .dataframe tbody tr th {\n",
              "        vertical-align: top;\n",
              "    }\n",
              "\n",
              "    .dataframe thead th {\n",
              "        text-align: right;\n",
              "    }\n",
              "</style>\n",
              "<table border=\"1\" class=\"dataframe\">\n",
              "  <thead>\n",
              "    <tr style=\"text-align: right;\">\n",
              "      <th></th>\n",
              "      <th>Confirmed</th>\n",
              "      <th>Deaths</th>\n",
              "    </tr>\n",
              "    <tr>\n",
              "      <th>Country/Region</th>\n",
              "      <th></th>\n",
              "      <th></th>\n",
              "    </tr>\n",
              "  </thead>\n",
              "  <tbody>\n",
              "    <tr>\n",
              "      <th>China</th>\n",
              "      <td>30612</td>\n",
              "      <td>634</td>\n",
              "    </tr>\n",
              "    <tr>\n",
              "      <th>Japan</th>\n",
              "      <td>45</td>\n",
              "      <td>0</td>\n",
              "    </tr>\n",
              "    <tr>\n",
              "      <th>Singapore</th>\n",
              "      <td>28</td>\n",
              "      <td>0</td>\n",
              "    </tr>\n",
              "    <tr>\n",
              "      <th>Thailand</th>\n",
              "      <td>25</td>\n",
              "      <td>0</td>\n",
              "    </tr>\n",
              "    <tr>\n",
              "      <th>Hong Kong</th>\n",
              "      <td>24</td>\n",
              "      <td>1</td>\n",
              "    </tr>\n",
              "    <tr>\n",
              "      <th>South Korea</th>\n",
              "      <td>23</td>\n",
              "      <td>0</td>\n",
              "    </tr>\n",
              "    <tr>\n",
              "      <th>Taiwan</th>\n",
              "      <td>16</td>\n",
              "      <td>0</td>\n",
              "    </tr>\n",
              "    <tr>\n",
              "      <th>Australia</th>\n",
              "      <td>14</td>\n",
              "      <td>0</td>\n",
              "    </tr>\n",
              "    <tr>\n",
              "      <th>US</th>\n",
              "      <td>12</td>\n",
              "      <td>0</td>\n",
              "    </tr>\n",
              "    <tr>\n",
              "      <th>Germany</th>\n",
              "      <td>12</td>\n",
              "      <td>0</td>\n",
              "    </tr>\n",
              "    <tr>\n",
              "      <th>Malaysia</th>\n",
              "      <td>12</td>\n",
              "      <td>0</td>\n",
              "    </tr>\n",
              "    <tr>\n",
              "      <th>Macau</th>\n",
              "      <td>10</td>\n",
              "      <td>0</td>\n",
              "    </tr>\n",
              "    <tr>\n",
              "      <th>Vietnam</th>\n",
              "      <td>10</td>\n",
              "      <td>0</td>\n",
              "    </tr>\n",
              "    <tr>\n",
              "      <th>France</th>\n",
              "      <td>6</td>\n",
              "      <td>0</td>\n",
              "    </tr>\n",
              "    <tr>\n",
              "      <th>Canada</th>\n",
              "      <td>5</td>\n",
              "      <td>0</td>\n",
              "    </tr>\n",
              "    <tr>\n",
              "      <th>United Arab Emirates</th>\n",
              "      <td>5</td>\n",
              "      <td>0</td>\n",
              "    </tr>\n",
              "    <tr>\n",
              "      <th>India</th>\n",
              "      <td>3</td>\n",
              "      <td>0</td>\n",
              "    </tr>\n",
              "    <tr>\n",
              "      <th>Italy</th>\n",
              "      <td>2</td>\n",
              "      <td>0</td>\n",
              "    </tr>\n",
              "    <tr>\n",
              "      <th>Philippines</th>\n",
              "      <td>2</td>\n",
              "      <td>1</td>\n",
              "    </tr>\n",
              "    <tr>\n",
              "      <th>Russia</th>\n",
              "      <td>2</td>\n",
              "      <td>0</td>\n",
              "    </tr>\n",
              "    <tr>\n",
              "      <th>UK</th>\n",
              "      <td>2</td>\n",
              "      <td>0</td>\n",
              "    </tr>\n",
              "    <tr>\n",
              "      <th>Belgium</th>\n",
              "      <td>1</td>\n",
              "      <td>0</td>\n",
              "    </tr>\n",
              "    <tr>\n",
              "      <th>Spain</th>\n",
              "      <td>1</td>\n",
              "      <td>0</td>\n",
              "    </tr>\n",
              "    <tr>\n",
              "      <th>Sri Lanka</th>\n",
              "      <td>1</td>\n",
              "      <td>0</td>\n",
              "    </tr>\n",
              "    <tr>\n",
              "      <th>Sweden</th>\n",
              "      <td>1</td>\n",
              "      <td>0</td>\n",
              "    </tr>\n",
              "    <tr>\n",
              "      <th>Finland</th>\n",
              "      <td>1</td>\n",
              "      <td>0</td>\n",
              "    </tr>\n",
              "    <tr>\n",
              "      <th>Cambodia</th>\n",
              "      <td>1</td>\n",
              "      <td>0</td>\n",
              "    </tr>\n",
              "    <tr>\n",
              "      <th>Nepal</th>\n",
              "      <td>1</td>\n",
              "      <td>0</td>\n",
              "    </tr>\n",
              "  </tbody>\n",
              "</table>\n",
              "</div>"
            ],
            "text/plain": [
              "                      Confirmed  Deaths\n",
              "Country/Region                         \n",
              "China                     30612     634\n",
              "Japan                        45       0\n",
              "Singapore                    28       0\n",
              "Thailand                     25       0\n",
              "Hong Kong                    24       1\n",
              "South Korea                  23       0\n",
              "Taiwan                       16       0\n",
              "Australia                    14       0\n",
              "US                           12       0\n",
              "Germany                      12       0\n",
              "Malaysia                     12       0\n",
              "Macau                        10       0\n",
              "Vietnam                      10       0\n",
              "France                        6       0\n",
              "Canada                        5       0\n",
              "United Arab Emirates          5       0\n",
              "India                         3       0\n",
              "Italy                         2       0\n",
              "Philippines                   2       1\n",
              "Russia                        2       0\n",
              "UK                            2       0\n",
              "Belgium                       1       0\n",
              "Spain                         1       0\n",
              "Sri Lanka                     1       0\n",
              "Sweden                        1       0\n",
              "Finland                       1       0\n",
              "Cambodia                      1       0\n",
              "Nepal                         1       0"
            ]
          },
          "metadata": {
            "tags": []
          },
          "execution_count": 8
        }
      ]
    },
    {
      "cell_type": "code",
      "metadata": {
        "id": "gzCJFWuqVWtT",
        "colab_type": "code",
        "colab": {
          "base_uri": "https://localhost:8080/",
          "height": 420
        },
        "outputId": "30908fb5-773b-4fae-a342-c9818c9cf007"
      },
      "source": [
        "# Matplotlib for additional customization\n",
        "from matplotlib import pyplot as plt\n",
        "%matplotlib inline\n",
        "import seaborn as sns\n",
        "plt.figure(figsize=(15,20))\n",
        "sns.relplot(x=\"Deaths\", y=\"Country/Region\", data=df)\n",
        "# plt.xlim(0,700)\n",
        "plt.title('Deaths By Corona Virus')"
      ],
      "execution_count": 9,
      "outputs": [
        {
          "output_type": "execute_result",
          "data": {
            "text/plain": [
              "Text(0.5, 1, 'Deaths By Corona Virus')"
            ]
          },
          "metadata": {
            "tags": []
          },
          "execution_count": 9
        },
        {
          "output_type": "display_data",
          "data": {
            "text/plain": [
              "<Figure size 1080x1440 with 0 Axes>"
            ]
          },
          "metadata": {
            "tags": []
          }
        },
        {
          "output_type": "display_data",
          "data": {
            "image/png": "[encoded data removed]",
            "text/plain": [
              "<Figure size 360x360 with 1 Axes>"
            ]
          },
          "metadata": {
            "tags": []
          }
        }
      ]
    },
    {
      "cell_type": "code",
      "metadata": {
        "id": "hI8mLCeUIXyF",
        "colab_type": "code",
        "colab": {}
      },
      "source": [
        ""
      ],
      "execution_count": 0,
      "outputs": []
    }
  ]
}